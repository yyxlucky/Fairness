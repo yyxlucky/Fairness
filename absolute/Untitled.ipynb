{
 "cells": [
  {
   "cell_type": "code",
   "execution_count": 1,
   "metadata": {},
   "outputs": [],
   "source": [
    "import pandas as pd\n",
    "import os as os"
   ]
  },
  {
   "cell_type": "code",
   "execution_count": 33,
   "metadata": {},
   "outputs": [],
   "source": [
    "path_file = os.path.join('C:/yyx/SCH/fourthSeme/fairness/Data/data20190223', 'friend_large.csv')\n",
    "# path_file = \"C:\\yyx\\SCH\\fourthSeme\\fairness\\Data\\data20190223\\friend_large.csv\"\n",
    "df = pd.read_csv(path_file, header = None)\n",
    "df.columns = ['ID1', 'ID2', 'Time']"
   ]
  },
  {
   "cell_type": "code",
   "execution_count": 34,
   "metadata": {},
   "outputs": [
    {
     "name": "stdout",
     "output_type": "stream",
     "text": [
      "   ID1    ID2                 Time\n",
      "0    1     14  2018-06-08 00:00:00\n",
      "1    1     40  2018-01-03 00:00:00\n",
      "2    1   5013  2018-06-08 00:00:00\n",
      "3    1   9436  2018-04-23 00:00:00\n",
      "4    1  10389  2018-01-03 00:00:00\n"
     ]
    }
   ],
   "source": [
    "print(df.head(5))"
   ]
  },
  {
   "cell_type": "code",
   "execution_count": 35,
   "metadata": {},
   "outputs": [
    {
     "name": "stdout",
     "output_type": "stream",
     "text": [
      "                ID1        ID2                 Time\n",
      "0                 1         14  2018-06-08 00:00:00\n",
      "1                 1         40  2018-01-03 00:00:00\n",
      "2                 1       5013  2018-06-08 00:00:00\n",
      "3                 1       9436  2018-04-23 00:00:00\n",
      "4                 1      10389  2018-01-03 00:00:00\n",
      "...             ...        ...                  ...\n",
      "41703540  218251642  211840761  2019-01-06 12:32:02\n",
      "41703541  218251642  212736833  2019-01-01 00:00:00\n",
      "41703542  218251642  212824231  2019-01-01 00:00:00\n",
      "41703543  218251642  213972518  2019-01-01 00:00:00\n",
      "41703544  218251642  217079616  2019-01-08 11:51:36\n",
      "\n",
      "[41703545 rows x 3 columns]\n"
     ]
    }
   ],
   "source": [
    "df2 = df.copy()\n",
    "print(df2)\n"
   ]
  },
  {
   "cell_type": "code",
   "execution_count": 36,
   "metadata": {},
   "outputs": [],
   "source": [
    "df2 = df2.drop(['Time'],axis=1)"
   ]
  },
  {
   "cell_type": "code",
   "execution_count": 37,
   "metadata": {},
   "outputs": [],
   "source": [
    "import numpy as np"
   ]
  },
  {
   "cell_type": "code",
   "execution_count": 38,
   "metadata": {},
   "outputs": [
    {
     "name": "stdout",
     "output_type": "stream",
     "text": [
      "ID1    218251642\n",
      "ID2    219549211\n",
      "dtype: int64\n"
     ]
    }
   ],
   "source": [
    "print(df2.max())"
   ]
  },
  {
   "cell_type": "code",
   "execution_count": 39,
   "metadata": {},
   "outputs": [],
   "source": [
    "df_clear = df2.drop(df2[(df2['ID1']>30000) | (df2['ID2']>30000)].index)"
   ]
  },
  {
   "cell_type": "code",
   "execution_count": 40,
   "metadata": {},
   "outputs": [],
   "source": [
    "MatFriend = np.zeros(shape=(30000,30000),dtype=int)"
   ]
  },
  {
   "cell_type": "code",
   "execution_count": 41,
   "metadata": {},
   "outputs": [
    {
     "name": "stdout",
     "output_type": "stream",
     "text": [
      "          ID1    ID2\n",
      "0           1     14\n",
      "1           1     40\n",
      "2           1   5013\n",
      "3           1   9436\n",
      "4           1  10389\n",
      "...       ...    ...\n",
      "351339  29514  20829\n",
      "351340  29514  21398\n",
      "351341  29514  22000\n",
      "351342  29514  25518\n",
      "351343  29514  28534\n",
      "\n",
      "[5777 rows x 2 columns]\n"
     ]
    }
   ],
   "source": [
    "print(df_clear)"
   ]
  },
  {
   "cell_type": "code",
   "execution_count": 42,
   "metadata": {},
   "outputs": [],
   "source": [
    "for index, ids in df_clear.iterrows():\n",
    "    id1 =int(ids['ID1'])\n",
    "    id2 =int(ids['ID2'])\n",
    "    if id1 <= 30000 and id2 <= 30000:\n",
    "        MatFriend[id1][id2]=1\n",
    "        MatFriend[id2][id1]=1\n",
    "    if id1 != 0:\n",
    "        MatFriend[id1][id1] = 1\n",
    "    elif id2 != 0:\n",
    "        MatFriend[id2][id2] = 1"
   ]
  },
  {
   "cell_type": "code",
   "execution_count": 43,
   "metadata": {},
   "outputs": [
    {
     "name": "stdout",
     "output_type": "stream",
     "text": [
      "[[0 0 0 ... 0 0 0]\n",
      " [0 1 0 ... 0 0 0]\n",
      " [0 0 1 ... 0 0 0]\n",
      " ...\n",
      " [0 0 0 ... 0 0 0]\n",
      " [0 0 0 ... 0 0 0]\n",
      " [0 0 0 ... 0 0 0]]\n"
     ]
    }
   ],
   "source": [
    "print(MatFriend)"
   ]
  },
  {
   "cell_type": "code",
   "execution_count": 44,
   "metadata": {},
   "outputs": [
    {
     "name": "stdout",
     "output_type": "stream",
     "text": [
      "9601\n"
     ]
    }
   ],
   "source": [
    "num = np.count_nonzero(MatFriend)\n",
    "print(num)"
   ]
  },
  {
   "cell_type": "code",
   "execution_count": 45,
   "metadata": {},
   "outputs": [],
   "source": [
    "df_final = pd.DataFrame(MatFriend)"
   ]
  },
  {
   "cell_type": "code",
   "execution_count": 63,
   "metadata": {},
   "outputs": [
    {
     "name": "stdout",
     "output_type": "stream",
     "text": [
      "       0      1      2      3      4      5      6      7      8      9      \\\n",
      "0          0      0      0      0      0      0      0      0      0      0   \n",
      "1          0      1      0      0      0      0      0      0      0      0   \n",
      "2          0      0      1      0      0      0      0      0      0      0   \n",
      "3          0      0      0      0      0      0      0      0      0      0   \n",
      "4          0      0      0      0      0      0      0      0      0      0   \n",
      "...      ...    ...    ...    ...    ...    ...    ...    ...    ...    ...   \n",
      "29995      0      0      0      0      0      0      0      0      0      0   \n",
      "29996      0      0      0      0      0      0      0      0      0      0   \n",
      "29997      0      0      0      0      0      0      0      0      0      0   \n",
      "29998      0      0      0      0      0      0      0      0      0      0   \n",
      "29999      0      0      0      0      0      0      0      0      0      0   \n",
      "\n",
      "       ...  29990  29991  29992  29993  29994  29995  29996  29997  29998  \\\n",
      "0      ...      0      0      0      0      0      0      0      0      0   \n",
      "1      ...      0      0      0      0      0      0      0      0      0   \n",
      "2      ...      0      0      0      0      0      0      0      0      0   \n",
      "3      ...      0      0      0      0      0      0      0      0      0   \n",
      "4      ...      0      0      0      0      0      0      0      0      0   \n",
      "...    ...    ...    ...    ...    ...    ...    ...    ...    ...    ...   \n",
      "29995  ...      0      0      0      0      0      0      0      0      0   \n",
      "29996  ...      0      0      0      0      0      0      0      0      0   \n",
      "29997  ...      0      0      0      0      0      0      0      0      0   \n",
      "29998  ...      0      0      0      0      0      0      0      0      0   \n",
      "29999  ...      0      0      0      0      0      0      0      0      0   \n",
      "\n",
      "       29999  \n",
      "0          0  \n",
      "1          0  \n",
      "2          0  \n",
      "3          0  \n",
      "4          0  \n",
      "...      ...  \n",
      "29995      0  \n",
      "29996      0  \n",
      "29997      0  \n",
      "29998      0  \n",
      "29999      0  \n",
      "\n",
      "[30000 rows x 30000 columns]\n"
     ]
    }
   ],
   "source": [
    "print(df_final)"
   ]
  },
  {
   "cell_type": "code",
   "execution_count": 46,
   "metadata": {},
   "outputs": [],
   "source": [
    "df_final.to_csv(\"C:/yyx/SCH/fourthSeme/fairness/Data/data20190223/30000friend_large.csv\",header=None)"
   ]
  },
  {
   "cell_type": "code",
   "execution_count": 71,
   "metadata": {},
   "outputs": [
    {
     "name": "stdout",
     "output_type": "stream",
     "text": [
      "   0      1      2      3      4      5      6      7      8      9      ...  \\\n",
      "0      0      0      0      0      0      0      0      0      0      0  ...   \n",
      "1      0      1      0      0      0      0      0      0      0      0  ...   \n",
      "2      0      0      1      0      0      0      0      0      0      0  ...   \n",
      "3      0      0      0      0      0      0      0      0      0      0  ...   \n",
      "4      0      0      0      0      0      0      0      0      0      0  ...   \n",
      "\n",
      "   29990  29991  29992  29993  29994  29995  29996  29997  29998  29999  \n",
      "0      0      0      0      0      0      0      0      0      0      0  \n",
      "1      0      0      0      0      0      0      0      0      0      0  \n",
      "2      0      0      0      0      0      0      0      0      0      0  \n",
      "3      0      0      0      0      0      0      0      0      0      0  \n",
      "4      0      0      0      0      0      0      0      0      0      0  \n",
      "\n",
      "[5 rows x 30000 columns]\n"
     ]
    }
   ],
   "source": [
    "print(df_final.head(5))"
   ]
  },
  {
   "cell_type": "code",
   "execution_count": 77,
   "metadata": {},
   "outputs": [],
   "source": [
    "'''\n",
    "outFile = \"/Users/yxyang/Desktop/absoluteFairData/data/data20190223/30000friend_large2.txt\"\n",
    "with open(outFile,'w') as fi:\n",
    "\n",
    "    numObj = numAttr = 30000\n",
    "\n",
    "    fi.write(str(numObj) + \"\\n\")\n",
    "    fi.write(str(numAttr) + '\\n')\n",
    "\n",
    "    for i in range(numObj):\n",
    "        # print(i)\n",
    "        for j in range(numAttr):\n",
    "            if i == j:\n",
    "                MatFriend[i][j] = 1\n",
    "            fi.write(str(MatFriend[i][j]))\n",
    "            # fi.write(\" \")\n",
    "        fi.write('\\n')\n",
    "'''"
   ]
  },
  {
   "cell_type": "code",
   "execution_count": 47,
   "metadata": {},
   "outputs": [
    {
     "name": "stderr",
     "output_type": "stream",
     "text": [
      "C:\\Users\\user\\AppData\\Local\\Temp\\ipykernel_31548\\2325648779.py:2: DtypeWarning: Columns (5) have mixed types. Specify dtype option on import or set low_memory=False.\n",
      "  df3 = pd.read_csv(path_file)\n"
     ]
    }
   ],
   "source": [
    "path_file = \"C:/yyx/SCH/fourthSeme/fairness/Data/data20190223/user_info.csv\"\n",
    "df3 = pd.read_csv(path_file)"
   ]
  },
  {
   "cell_type": "code",
   "execution_count": 48,
   "metadata": {},
   "outputs": [
    {
     "name": "stdout",
     "output_type": "stream",
     "text": [
      "   id    name realname  gender  mobile birthday  \\\n",
      "0   1      徐俊       徐俊       1     NaN      NaN   \n",
      "1   2     齐特佳      齐特佳       1     NaN      NaN   \n",
      "2   7      李晗       李晗       1     NaN      NaN   \n",
      "3   8      师卉       师卉       2     NaN      NaN   \n",
      "4  13      张哲       张哲       2     NaN      NaN   \n",
      "5  14  sherry   sherry       2     NaN      NaN   \n",
      "\n",
      "                                              avatar company   cmp_id  \\\n",
      "0  http://i9.taou.com/maimai/p/837/973_1_22LolFWs...      脉脉      1.0   \n",
      "1  http://i9.taou.com/maimai/p/7920/8439_2_81ldVp...      脉脉      1.0   \n",
      "2  http://i9.taou.com/maimai/p/7159/7341_7_M1GQ4s...    束光文化      0.0   \n",
      "3  http://i9.taou.com/maimai/p/100/8412_8_hjQ2Eo8...     前脉脉      1.0   \n",
      "4  http://i9.taou.com/maimai/p/4111/2217_13_11ROd...      搜狗  10182.0   \n",
      "5  http://i9.taou.com/maimai/p/844/1155_14_5Kx6MM...      脉脉      1.0   \n",
      "\n",
      "                                             cmp_url  ... work_exp_num  \\\n",
      "0  https://maimai.cn/company?webcid=13DPDwuRC&self=0  ...            4   \n",
      "1  https://maimai.cn/company?webcid=13DPDwuRC&self=0  ...            4   \n",
      "2  https://maimai.cn/company?webcname=5p2f5YWJ5pa...  ...            4   \n",
      "3  https://maimai.cn/company?webcid=13DPDwuRC&self=0  ...            3   \n",
      "4   https://maimai.cn/company?webcid=4XOJ8bgC&self=0  ...            1   \n",
      "5  https://maimai.cn/company?webcid=13DPDwuRC&self=0  ...            5   \n",
      "\n",
      "  edu_exp_num  imp_tag_num                                           imp_tags  \\\n",
      "0           2           49  技术大牛;清华大学;状元;搜狗;酒井;移动互联网;博士;ATP;系统架构;搜索引擎;机器学习...   \n",
      "1           2           50  产品经理;脉脉;搜狗浏览器;宅;来一发;产品;爱吃泡面的死宅;土豪佳;双子座;张靓颖;阿贾克...   \n",
      "2           2           46  产品经理;音乐;文艺;产品运营;产品策划;KTV之王;IT互联网;听歌;老香;文艺青年;唱歌...   \n",
      "3           1           35  女王;设计;视觉;特别调皮;UI;动漫;时尚;人民大学;宅腐黑;旅游;小丸子女王大人;电影;...   \n",
      "4           1           19  自动化测试;搜狗;测试架构;测试开发;广告;互联网;测试;技术管理;五道口;营销;金牛座;白...   \n",
      "5           1           39  测试;特牛;搜狗;完美;执着;测试开发;互联网;移动互联网;创业;牛;nice;手机;纯朴;...   \n",
      "\n",
      "  pro_tag_num                                           pro_tags one_sentence  \\\n",
      "0          30  技术大牛 83;清华大学 61;状元 49;搜狗 33;酒井 31;移动互联网 29;博士 ...          NaN   \n",
      "1          48  产品经理 148;脉脉 125;搜狗浏览器 62;宅 48;来一发 46;产品 45;爱吃泡...          NaN   \n",
      "2          41  产品经理 120;音乐 20;文艺 18;产品运营 15;产品策划 10;KTV之王 10;...          NaN   \n",
      "3          34  女王 191;设计 70;视觉 53;特别调皮 36;UI 32;动漫 30;时尚 27;人...          NaN   \n",
      "4          14  自动化测试 44;搜狗 14;测试架构 12;测试开发 12;广告 10;互联网 9;测试 ...          NaN   \n",
      "5          38  测试 56;特牛 38;搜狗 33;完美 33;执着 27;测试开发 23;互联网 21;移...          NaN   \n",
      "\n",
      "      headline info_ratio               uptime  \n",
      "0       革命的老黄牛      100.0  2019-01-18 07:38:03  \n",
      "1  一个希望生活更有趣的人       70.0  2019-01-19 11:04:07  \n",
      "2          NaN       70.0  2019-01-17 13:32:30  \n",
      "3          NaN       70.0  2019-01-20 15:02:18  \n",
      "4          NaN      100.0  2019-01-19 09:31:20  \n",
      "5          NaN       63.0  2019-01-20 15:01:30  \n",
      "\n",
      "[6 rows x 45 columns]\n"
     ]
    }
   ],
   "source": [
    "print(df3.head(6))"
   ]
  },
  {
   "cell_type": "code",
   "execution_count": 50,
   "metadata": {},
   "outputs": [],
   "source": [
    "df3 = pd.DataFrame(df3,columns=['id','gender'])"
   ]
  },
  {
   "cell_type": "code",
   "execution_count": 53,
   "metadata": {},
   "outputs": [
    {
     "name": "stdout",
     "output_type": "stream",
     "text": [
      "   id  gender\n",
      "0   1       1\n",
      "1   2       1\n",
      "2   7       1\n",
      "3   8       2\n",
      "4  13       2\n",
      "5  14       2\n",
      "6  15       1\n",
      "7  16       2\n",
      "8  17       1\n",
      "9  22       2\n"
     ]
    }
   ],
   "source": [
    "print(df3.head(10))"
   ]
  },
  {
   "cell_type": "code",
   "execution_count": 59,
   "metadata": {},
   "outputs": [
    {
     "name": "stderr",
     "output_type": "stream",
     "text": [
      "IOPub data rate exceeded.\n",
      "The notebook server will temporarily stop sending output\n",
      "to the client in order to avoid crashing it.\n",
      "To change this limit, set the config variable\n",
      "`--NotebookApp.iopub_data_rate_limit`.\n",
      "\n",
      "Current values:\n",
      "NotebookApp.iopub_data_rate_limit=1000000.0 (bytes/sec)\n",
      "NotebookApp.rate_limit_window=3.0 (secs)\n",
      "\n"
     ]
    }
   ],
   "source": [
    "userNewID = {}\n",
    "for index, ids in df3.iterrows():\n",
    "    userNewID.update({index: ids[0]})\n",
    "\n",
    "print(userNewID)"
   ]
  },
  {
   "cell_type": "code",
   "execution_count": null,
   "metadata": {},
   "outputs": [],
   "source": []
  }
 ],
 "metadata": {
  "kernelspec": {
   "display_name": "Python 3",
   "language": "python",
   "name": "python3"
  },
  "language_info": {
   "codemirror_mode": {
    "name": "ipython",
    "version": 3
   },
   "file_extension": ".py",
   "mimetype": "text/x-python",
   "name": "python",
   "nbconvert_exporter": "python",
   "pygments_lexer": "ipython3",
   "version": "3.9.12"
  }
 },
 "nbformat": 4,
 "nbformat_minor": 4
}
